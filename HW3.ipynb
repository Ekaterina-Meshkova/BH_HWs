{
  "nbformat": 4,
  "nbformat_minor": 0,
  "metadata": {
    "colab": {
      "provenance": [],
      "authorship_tag": "ABX9TyMyAhISaRG7q4UB7ToKCDhw",
      "include_colab_link": true
    },
    "kernelspec": {
      "name": "python3",
      "display_name": "Python 3"
    },
    "language_info": {
      "name": "python"
    }
  },
  "cells": [
    {
      "cell_type": "markdown",
      "metadata": {
        "id": "view-in-github",
        "colab_type": "text"
      },
      "source": [
        "<a href=\"https://colab.research.google.com/github/Ekaterina-Meshkova/BH_HWs/blob/main/HW3.ipynb\" target=\"_parent\"><img src=\"https://colab.research.google.com/assets/colab-badge.svg\" alt=\"Open In Colab\"/></a>"
      ]
    },
    {
      "cell_type": "code",
      "execution_count": 2,
      "metadata": {
        "id": "7Po3oK-E3twh"
      },
      "outputs": [],
      "source": [
        "import pandas as pd\n",
        "import sqlite3\n",
        "import matplotlib.pyplot as plt\n",
        "import seaborn as sns"
      ]
    },
    {
      "cell_type": "markdown",
      "source": [
        "Загрузка, анализ и предварительная подготовка датасета"
      ],
      "metadata": {
        "id": "6qlXbwyyQ4Ty"
      }
    },
    {
      "cell_type": "code",
      "source": [
        "# Загрузка датасета\n",
        "data = pd.read_csv('/content/International_Education_Costs.csv')"
      ],
      "metadata": {
        "id": "xkvj1bT_HMx4"
      },
      "execution_count": 12,
      "outputs": []
    },
    {
      "cell_type": "code",
      "source": [
        "# Предварительный просмотр\n",
        "\n",
        "# 5 строк\n",
        "print('Первые 5 строк датасета:')\n",
        "print(data.head())\n",
        "\n",
        "# инфо\n",
        "print(\"Информация о датасете:\")\n",
        "print(data.info())"
      ],
      "metadata": {
        "colab": {
          "base_uri": "https://localhost:8080/"
        },
        "id": "VFauI-VVHaYX",
        "outputId": "5996dd72-fa8f-4f5c-c5fa-d30e5271a702"
      },
      "execution_count": 13,
      "outputs": [
        {
          "output_type": "stream",
          "name": "stdout",
          "text": [
            "Первые 5 строк датасета:\n",
            "     Country       City                      University  \\\n",
            "0        USA  Cambridge              Harvard University   \n",
            "1         UK     London         Imperial College London   \n",
            "2     Canada    Toronto           University of Toronto   \n",
            "3  Australia  Melbourne         University of Melbourne   \n",
            "4    Germany     Munich  Technical University of Munich   \n",
            "\n",
            "                  Program   Level  Duration_Years  Tuition_USD  \\\n",
            "0        Computer Science  Master             2.0        55400   \n",
            "1            Data Science  Master             1.0        41200   \n",
            "2      Business Analytics  Master             2.0        38500   \n",
            "3             Engineering  Master             2.0        42000   \n",
            "4  Mechanical Engineering  Master             2.0          500   \n",
            "\n",
            "   Living_Cost_Index  Rent_USD  Visa_Fee_USD  Insurance_USD  Exchange_Rate  \n",
            "0               83.5      2200           160           1500           1.00  \n",
            "1               75.8      1800           485            800           0.79  \n",
            "2               72.5      1600           235            900           1.35  \n",
            "3               71.2      1400           450            650           1.52  \n",
            "4               70.5      1100            75            550           0.92  \n",
            "Информация о датасете:\n",
            "<class 'pandas.core.frame.DataFrame'>\n",
            "RangeIndex: 907 entries, 0 to 906\n",
            "Data columns (total 12 columns):\n",
            " #   Column             Non-Null Count  Dtype  \n",
            "---  ------             --------------  -----  \n",
            " 0   Country            907 non-null    object \n",
            " 1   City               907 non-null    object \n",
            " 2   University         907 non-null    object \n",
            " 3   Program            907 non-null    object \n",
            " 4   Level              907 non-null    object \n",
            " 5   Duration_Years     907 non-null    float64\n",
            " 6   Tuition_USD        907 non-null    int64  \n",
            " 7   Living_Cost_Index  907 non-null    float64\n",
            " 8   Rent_USD           907 non-null    int64  \n",
            " 9   Visa_Fee_USD       907 non-null    int64  \n",
            " 10  Insurance_USD      907 non-null    int64  \n",
            " 11  Exchange_Rate      907 non-null    float64\n",
            "dtypes: float64(3), int64(4), object(5)\n",
            "memory usage: 85.2+ KB\n",
            "None\n"
          ]
        }
      ]
    },
    {
      "cell_type": "code",
      "source": [
        "# Просмотр статистики\n",
        "print(\"Cтатистика датасета:\")\n",
        "print(data.describe(include='all'))"
      ],
      "metadata": {
        "colab": {
          "base_uri": "https://localhost:8080/"
        },
        "id": "ar3kSuVyHipn",
        "outputId": "097a95f2-bac2-485f-ddce-2953ece9546b"
      },
      "execution_count": 14,
      "outputs": [
        {
          "output_type": "stream",
          "name": "stdout",
          "text": [
            "Cтатистика датасета:\n",
            "       Country       City                University           Program   Level  \\\n",
            "count      907        907                       907               907     907   \n",
            "unique      71        556                       622                92       3   \n",
            "top         UK  Singapore  University of Washington  Computer Science  Master   \n",
            "freq        93         18                         6               312     451   \n",
            "mean       NaN        NaN                       NaN               NaN     NaN   \n",
            "std        NaN        NaN                       NaN               NaN     NaN   \n",
            "min        NaN        NaN                       NaN               NaN     NaN   \n",
            "25%        NaN        NaN                       NaN               NaN     NaN   \n",
            "50%        NaN        NaN                       NaN               NaN     NaN   \n",
            "75%        NaN        NaN                       NaN               NaN     NaN   \n",
            "max        NaN        NaN                       NaN               NaN     NaN   \n",
            "\n",
            "        Duration_Years   Tuition_USD  Living_Cost_Index     Rent_USD  \\\n",
            "count       907.000000    907.000000         907.000000   907.000000   \n",
            "unique             NaN           NaN                NaN          NaN   \n",
            "top                NaN           NaN                NaN          NaN   \n",
            "freq               NaN           NaN                NaN          NaN   \n",
            "mean          2.836825  16705.016538          64.437486   969.206174   \n",
            "std           0.945449  16582.385275          14.056333   517.154752   \n",
            "min           1.000000      0.000000          27.800000   150.000000   \n",
            "25%           2.000000   2850.000000          56.300000   545.000000   \n",
            "50%           3.000000   7500.000000          67.500000   900.000000   \n",
            "75%           4.000000  31100.000000          72.200000  1300.000000   \n",
            "max           5.000000  62000.000000         122.400000  2500.000000   \n",
            "\n",
            "        Visa_Fee_USD  Insurance_USD  Exchange_Rate  \n",
            "count     907.000000     907.000000     907.000000  \n",
            "unique           NaN            NaN            NaN  \n",
            "top              NaN            NaN            NaN  \n",
            "freq             NaN            NaN            NaN  \n",
            "mean      211.396913     700.077178     623.000695  \n",
            "std       143.435740     320.374875    3801.746134  \n",
            "min        40.000000     200.000000       0.150000  \n",
            "25%       100.000000     450.000000       0.920000  \n",
            "50%       160.000000     650.000000       1.350000  \n",
            "75%       240.000000     800.000000       7.150000  \n",
            "max       490.000000    1500.000000   42150.000000  \n"
          ]
        }
      ]
    },
    {
      "cell_type": "code",
      "source": [
        "# Очистка данных\n",
        "data_clean = data.copy()\n",
        "\n",
        "# Удаление ненужных столбцов\n",
        "cols_to_drop = ['University', 'Living_Cost_Index', 'Duration_Years', 'Program',\n",
        "                'Level ', 'Exchange_Rate']\n",
        "data_clean.drop(columns=cols_to_drop, inplace=True, errors='ignore')\n",
        "\n",
        "# Удаление строк с отсутствующей критической информацией\n",
        "data_clean = data_clean.dropna(subset=['Country', 'Tuition_USD', 'Visa_Fee_USD', 'Insurance_USD'])"
      ],
      "metadata": {
        "id": "AyLNcQbfJDnH"
      },
      "execution_count": 15,
      "outputs": []
    },
    {
      "cell_type": "markdown",
      "source": [
        "Создание базы данных SQLite и таблицы"
      ],
      "metadata": {
        "id": "dfcShcI6Q0D0"
      }
    },
    {
      "cell_type": "code",
      "source": [
        "# Создание базы данных\n",
        "conn = sqlite3.connect('education_eosts.db')\n",
        "cursor = conn.cursor()"
      ],
      "metadata": {
        "id": "cPZI4R-5I96z"
      },
      "execution_count": 16,
      "outputs": []
    },
    {
      "cell_type": "code",
      "source": [
        "# Подключение к базе данных SQLite\n",
        "conn = sqlite3.connect('data.db')\n",
        "cursor = conn.cursor()\n",
        "\n",
        "# Создание таблицы\n",
        "cursor.execute (''' CREATE TABLE IF NOT EXISTS EDU_Costs (\n",
        "  id INTEGER PRIMARY KEY,\n",
        "  Country TEXT,\n",
        "  City TEXT,\n",
        "  'Tuition USD' INTEGER,\n",
        "  'Rent USD' INTEGER,\n",
        "  'Visa Fee USD' INTEGER,\n",
        "  'Insurance USD' INTEGER)\n",
        "''')"
      ],
      "metadata": {
        "colab": {
          "base_uri": "https://localhost:8080/"
        },
        "id": "ILikFy4QWgqk",
        "outputId": "dbf17b26-20a9-409d-f31b-f5afca7d61bf"
      },
      "execution_count": 17,
      "outputs": [
        {
          "output_type": "execute_result",
          "data": {
            "text/plain": [
              "<sqlite3.Cursor at 0x7bd1c21652c0>"
            ]
          },
          "metadata": {},
          "execution_count": 17
        }
      ]
    },
    {
      "cell_type": "code",
      "source": [
        "# Импорт данных\n",
        "data_clean.to_sql('EDU_Costs', conn, if_exists='replace', index=False)\n",
        "conn.commit()"
      ],
      "metadata": {
        "id": "SUgF2DWGWC4W"
      },
      "execution_count": 18,
      "outputs": []
    },
    {
      "cell_type": "markdown",
      "source": [
        "SQL-запросы с фильтрами"
      ],
      "metadata": {
        "id": "WO_37VlvjisQ"
      }
    },
    {
      "cell_type": "code",
      "source": [
        "# Вывод стоимости Rent_USD для Country= UK\n",
        "\n",
        "query = '''\n",
        "SELECT City, Rent_USD\n",
        "FROM EDU_Costs\n",
        "WHERE \"Country\" =  'UK'\n",
        "'''\n",
        "# Выполнение запроса\n",
        "result = pd.read_sql(query, conn)\n",
        "\n",
        "# Вывод результата\n",
        "print(result)"
      ],
      "metadata": {
        "colab": {
          "base_uri": "https://localhost:8080/"
        },
        "id": "i_4uC4u3aQBk",
        "outputId": "d5c4193d-04ef-4567-dafe-cf3e3dba62f1"
      },
      "execution_count": 57,
      "outputs": [
        {
          "output_type": "stream",
          "name": "stdout",
          "text": [
            "          City  Rent_USD\n",
            "0       London      1800\n",
            "1      Bristol      1100\n",
            "2       Oxford      1600\n",
            "3    Cambridge      1700\n",
            "4      Glasgow      1100\n",
            "..         ...       ...\n",
            "88  Manchester       900\n",
            "89     Bristol      1200\n",
            "90     Glasgow       950\n",
            "91       Leeds       900\n",
            "92  Nottingham       800\n",
            "\n",
            "[93 rows x 2 columns]\n"
          ]
        }
      ]
    },
    {
      "cell_type": "code",
      "source": [
        "# Вывод Топ-5 городов UK с космической арендой\n",
        "\n",
        "query = '''\n",
        "SELECT Country, City, Rent_USD\n",
        "FROM EDU_Costs\n",
        "WHERE \"Country\" =  'UK'\n",
        "ORDER BY 'Rent USD' DESC\n",
        "LIMIT 5\n",
        "'''\n",
        "result = pd.read_sql(query, conn)\n",
        "\n",
        "# Вывод результата\n",
        "print(result)\n",
        "\n",
        "# Настройка стиля\n",
        "sns.set_style(\"whitegrid\")\n",
        "plt.figure(figsize=(12, 8))\n",
        "\n",
        "# Визуализация\n",
        "plt.subplot(2, 2, 3)\n",
        "result = pd.read_sql(query, conn)\n",
        "sns.barplot(x='City', y='Rent_USD', data= result)\n",
        "plt.title('Топ-5 городов UK с космической арендой')\n",
        "plt.xlabel('Город')\n",
        "plt.ylabel('Аренда')"
      ],
      "metadata": {
        "colab": {
          "base_uri": "https://localhost:8080/",
          "height": 504
        },
        "id": "DIBPkGEUcGWm",
        "outputId": "0566935f-05a7-4b7a-8d41-aa9cf887fb4e"
      },
      "execution_count": 70,
      "outputs": [
        {
          "output_type": "stream",
          "name": "stdout",
          "text": [
            "  Country       City  Rent_USD\n",
            "0      UK     London      1800\n",
            "1      UK    Bristol      1100\n",
            "2      UK     Oxford      1600\n",
            "3      UK  Cambridge      1700\n",
            "4      UK    Glasgow      1100\n"
          ]
        },
        {
          "output_type": "execute_result",
          "data": {
            "text/plain": [
              "Text(0, 0.5, 'Аренда')"
            ]
          },
          "metadata": {},
          "execution_count": 70
        },
        {
          "output_type": "display_data",
          "data": {
            "text/plain": [
              "<Figure size 1200x800 with 1 Axes>"
            ],
            "image/png": "[encoded data removed]"
          },
          "metadata": {}
        }
      ]
    },
    {
      "cell_type": "code",
      "source": [],
      "metadata": {
        "id": "T7At4jRKsjwB"
      },
      "execution_count": null,
      "outputs": []
    },
    {
      "cell_type": "markdown",
      "source": [
        "SQL-запросы с агрегатными функциями"
      ],
      "metadata": {
        "id": "LxthifuLs8UL"
      }
    },
    {
      "cell_type": "code",
      "source": [
        "# Средняя стоимость аренды по UK\n",
        "\n",
        "query = '''\n",
        "SELECT  Country, AVG ('Rent USD') as avg_rent_UK\n",
        "FROM EDU_Costs\n",
        "WHERE \"Country\" =  'UK'\n",
        "ORDER BY Country\n",
        "'''\n",
        "# Выполнение запроса\n",
        "result = cursor.fetchall()\n",
        "\n",
        "# Вывод результата\n",
        "print(\"Средняя стоимость аренды по странам:\")\n",
        "print(f\"Страна: {row[0]}, средняя: {row[2]}\")"
      ],
      "metadata": {
        "colab": {
          "base_uri": "https://localhost:8080/"
        },
        "id": "kPiaLbuKecr0",
        "outputId": "50dd65ee-0ebf-4c85-982b-062d1958cfd8"
      },
      "execution_count": 55,
      "outputs": [
        {
          "output_type": "stream",
          "name": "stdout",
          "text": [
            "Средняя стоимость аренды по странам:\n",
            "Страна: UK, средняя: 1100\n"
          ]
        }
      ]
    },
    {
      "cell_type": "code",
      "source": [
        "# Количество наблюдений по городам\n",
        "\n",
        "query = '''\n",
        "SELECT City, COUNT(*) as city_count\n",
        "FROM EDU_Costs\n",
        "GROUP BY \"City\"\n",
        "ORDER BY city_count DESC\n",
        "LIMIT 20\n",
        "'''\n",
        "\n",
        "# Выполнение запроса\n",
        "result = pd.read_sql(query, conn)\n",
        "\n",
        "# Вывод результата\n",
        "print(result)\n",
        "\n",
        "# Настройка стиля\n",
        "sns.set_style(\"whitegrid\")\n",
        "plt.figure(figsize=(12, 8))\n",
        "\n",
        "# Визуализация\n",
        "plt.subplot(2, 2, 1)\n",
        "sns.barplot(x='city_count', y='City', data= result, palette='viridis')\n",
        "plt.title('Топ-20 городов по количеству наблюдений аренды')\n",
        "plt.xlabel('Количество наблюдений')\n",
        "plt.ylabel('Город')\n"
      ],
      "metadata": {
        "colab": {
          "base_uri": "https://localhost:8080/",
          "height": 851
        },
        "id": "iOqBqskYoD4f",
        "outputId": "29fd0a97-0bdc-41da-bbbb-55f1e569bb70"
      },
      "execution_count": 67,
      "outputs": [
        {
          "output_type": "stream",
          "name": "stdout",
          "text": [
            "          City  city_count\n",
            "0    Singapore          18\n",
            "1       Sydney          11\n",
            "2    Melbourne          11\n",
            "3       London          10\n",
            "4     Canberra           8\n",
            "5    Newcastle           7\n",
            "6     Brisbane           7\n",
            "7        Seoul           6\n",
            "8      Seattle           6\n",
            "9    Cambridge           6\n",
            "10  Wollongong           5\n",
            "11       Perth           5\n",
            "12    Montreal           5\n",
            "13  Manchester           5\n",
            "14       Leeds           5\n",
            "15      Hobart           5\n",
            "16  Gold Coast           5\n",
            "17     Bristol           5\n",
            "18      Boston           5\n",
            "19      Austin           5\n"
          ]
        },
        {
          "output_type": "stream",
          "name": "stderr",
          "text": [
            "<ipython-input-67-3212462593b4>:23: FutureWarning: \n",
            "\n",
            "Passing `palette` without assigning `hue` is deprecated and will be removed in v0.14.0. Assign the `y` variable to `hue` and set `legend=False` for the same effect.\n",
            "\n",
            "  sns.barplot(x='city_count', y='City', data= result, palette='viridis')\n"
          ]
        },
        {
          "output_type": "execute_result",
          "data": {
            "text/plain": [
              "Text(0, 0.5, 'Город')"
            ]
          },
          "metadata": {},
          "execution_count": 67
        },
        {
          "output_type": "display_data",
          "data": {
            "text/plain": [
              "<Figure size 1200x800 with 1 Axes>"
            ],
            "image/png": "[encoded data removed]"
          },
          "metadata": {}
        }
      ]
    },
    {
      "cell_type": "code",
      "source": [
        "# Закрытие соединения\n",
        "conn.commit()\n",
        "conn.close()"
      ],
      "metadata": {
        "id": "8p2NlcvGYapS"
      },
      "execution_count": null,
      "outputs": []
    }
  ]
}