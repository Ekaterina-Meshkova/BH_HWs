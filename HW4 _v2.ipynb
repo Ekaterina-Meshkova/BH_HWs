{
  "nbformat": 4,
  "nbformat_minor": 0,
  "metadata": {
    "colab": {
      "provenance": [],
      "authorship_tag": "ABX9TyMXxgP6du4adN9j9nCMCiEG",
      "include_colab_link": true
    },
    "kernelspec": {
      "name": "python3",
      "display_name": "Python 3"
    },
    "language_info": {
      "name": "python"
    }
  },
  "cells": [
    {
      "cell_type": "markdown",
      "metadata": {
        "id": "view-in-github",
        "colab_type": "text"
      },
      "source": [
        "<a href=\"https://colab.research.google.com/github/Ekaterina-Meshkova/BH_HWs/blob/main/HW4%20_v2.ipynb\" target=\"_parent\"><img src=\"https://colab.research.google.com/assets/colab-badge.svg\" alt=\"Open In Colab\"/></a>"
      ]
    },
    {
      "cell_type": "code",
      "execution_count": 93,
      "metadata": {
        "id": "7Po3oK-E3twh"
      },
      "outputs": [],
      "source": [
        "# Импорт необходимых библиотек\n",
        "import numpy as np\n",
        "import pandas as pd\n",
        "import matplotlib.pyplot as plt\n",
        "import seaborn as sns\n",
        "from sklearn.datasets import load_breast_cancer\n",
        "from sklearn.model_selection import train_test_split\n",
        "from sklearn.preprocessing import StandardScaler\n",
        "from sklearn.pipeline import Pipeline\n",
        "from sklearn.metrics import accuracy_score, classification_report, confusion_matrix, ConfusionMatrixDisplay"
      ]
    },
    {
      "cell_type": "code",
      "source": [
        "# Загрузка предварительно подгруженного из kaggle.com датасета\n",
        "data = pd.read_csv('Smart_Farming_Crop_Yield_2024.csv')"
      ],
      "metadata": {
        "id": "_zzD9tLGld7S"
      },
      "execution_count": 43,
      "outputs": []
    },
    {
      "cell_type": "code",
      "source": [
        "# Вывод первых 5 строк датасета и информации по нему\n",
        "print('--- Первые 5 строк ---')\n",
        "print(data.head())\n",
        "print('--- Info ---')\n",
        "print(data.info())"
      ],
      "metadata": {
        "colab": {
          "base_uri": "https://localhost:8080/"
        },
        "id": "R8xyTV9PsPaL",
        "outputId": "cf9d2e07-e286-414e-fc7d-17132fda776f"
      },
      "execution_count": 44,
      "outputs": [
        {
          "output_type": "stream",
          "name": "stdout",
          "text": [
            "--- Первые 5 строк ---\n",
            "    farm_id       region crop_type  soil_moisture_%  soil_pH  temperature_C  \\\n",
            "0  FARM0001  North India     Wheat            35.95     5.99          17.79   \n",
            "1  FARM0002    South USA   Soybean            19.74     7.24          30.18   \n",
            "2  FARM0003    South USA     Wheat            29.32     7.16          27.37   \n",
            "3  FARM0004  Central USA     Maize            17.33     6.03          33.73   \n",
            "4  FARM0005  Central USA    Cotton            19.37     5.92          33.86   \n",
            "\n",
            "   rainfall_mm  humidity_%  sunlight_hours irrigation_type  ... sowing_date  \\\n",
            "0        75.62       77.03            7.27             NaN  ...  2024-01-08   \n",
            "1        89.91       61.13            5.67       Sprinkler  ...  2024-02-04   \n",
            "2       265.43       68.87            8.23            Drip  ...  2024-02-03   \n",
            "3       212.01       70.46            5.03       Sprinkler  ...  2024-02-21   \n",
            "4       269.09       55.73            7.93             NaN  ...  2024-02-05   \n",
            "\n",
            "   harvest_date total_days yield_kg_per_hectare  sensor_id   timestamp  \\\n",
            "0    2024-05-09        122              4408.07   SENS0001  2024-03-19   \n",
            "1    2024-05-26        112              5389.98   SENS0002  2024-04-21   \n",
            "2    2024-06-26        144              2931.16   SENS0003  2024-02-28   \n",
            "3    2024-07-04        134              4227.80   SENS0004  2024-05-14   \n",
            "4    2024-05-20        105              4979.96   SENS0005  2024-04-13   \n",
            "\n",
            "    latitude  longitude  NDVI_index  crop_disease_status  \n",
            "0  14.970941  82.997689        0.63                 Mild  \n",
            "1  16.613022  70.869009        0.58                  NaN  \n",
            "2  19.503156  79.068206        0.80                 Mild  \n",
            "3  31.071298  85.519998        0.44                  NaN  \n",
            "4  16.568540  81.691720        0.84               Severe  \n",
            "\n",
            "[5 rows x 22 columns]\n",
            "--- Info ---\n",
            "<class 'pandas.core.frame.DataFrame'>\n",
            "RangeIndex: 500 entries, 0 to 499\n",
            "Data columns (total 22 columns):\n",
            " #   Column                Non-Null Count  Dtype  \n",
            "---  ------                --------------  -----  \n",
            " 0   farm_id               500 non-null    object \n",
            " 1   region                500 non-null    object \n",
            " 2   crop_type             500 non-null    object \n",
            " 3   soil_moisture_%       500 non-null    float64\n",
            " 4   soil_pH               500 non-null    float64\n",
            " 5   temperature_C         500 non-null    float64\n",
            " 6   rainfall_mm           500 non-null    float64\n",
            " 7   humidity_%            500 non-null    float64\n",
            " 8   sunlight_hours        500 non-null    float64\n",
            " 9   irrigation_type       350 non-null    object \n",
            " 10  fertilizer_type       500 non-null    object \n",
            " 11  pesticide_usage_ml    500 non-null    float64\n",
            " 12  sowing_date           500 non-null    object \n",
            " 13  harvest_date          500 non-null    object \n",
            " 14  total_days            500 non-null    int64  \n",
            " 15  yield_kg_per_hectare  500 non-null    float64\n",
            " 16  sensor_id             500 non-null    object \n",
            " 17  timestamp             500 non-null    object \n",
            " 18  latitude              500 non-null    float64\n",
            " 19  longitude             500 non-null    float64\n",
            " 20  NDVI_index            500 non-null    float64\n",
            " 21  crop_disease_status   370 non-null    object \n",
            "dtypes: float64(11), int64(1), object(10)\n",
            "memory usage: 86.1+ KB\n",
            "None\n"
          ]
        }
      ]
    },
    {
      "cell_type": "code",
      "source": [
        "# Проверка датасета на пропущенные значения\n",
        "print ('Пропущенные значения до обработки:')\n",
        "print (data.isnull().sum())\n",
        "\n",
        "# Следует заполнить пустые строки irrigation_type и crop_disease_status"
      ],
      "metadata": {
        "colab": {
          "base_uri": "https://localhost:8080/"
        },
        "id": "ncoh02YmnnVD",
        "outputId": "7b3aa2d9-c1fe-43ff-e3e6-f52100640d50"
      },
      "execution_count": 45,
      "outputs": [
        {
          "output_type": "stream",
          "name": "stdout",
          "text": [
            "Пропущенные значения до обработки:\n",
            "farm_id                   0\n",
            "region                    0\n",
            "crop_type                 0\n",
            "soil_moisture_%           0\n",
            "soil_pH                   0\n",
            "temperature_C             0\n",
            "rainfall_mm               0\n",
            "humidity_%                0\n",
            "sunlight_hours            0\n",
            "irrigation_type         150\n",
            "fertilizer_type           0\n",
            "pesticide_usage_ml        0\n",
            "sowing_date               0\n",
            "harvest_date              0\n",
            "total_days                0\n",
            "yield_kg_per_hectare      0\n",
            "sensor_id                 0\n",
            "timestamp                 0\n",
            "latitude                  0\n",
            "longitude                 0\n",
            "NDVI_index                0\n",
            "crop_disease_status     130\n",
            "dtype: int64\n"
          ]
        }
      ]
    },
    {
      "cell_type": "code",
      "source": [
        "# Заполнение пропущенных значений (числовые заполняются средним значением, категориальные - модой)\n",
        "for col in data:\n",
        "  data[col] = data[col].fillna(data[col].mean() if data[col].dtype in ['int64', 'float64'] else data[col].mode()[0])"
      ],
      "metadata": {
        "id": "5xBnfOyGnwrp"
      },
      "execution_count": 46,
      "outputs": []
    },
    {
      "cell_type": "code",
      "source": [
        "# Проверка на пропущенные значения после из обработки\n",
        "print ('Пропущенные значения после обработки:')\n",
        "print (data.isnull().sum())"
      ],
      "metadata": {
        "colab": {
          "base_uri": "https://localhost:8080/"
        },
        "id": "srqwECuBsBv6",
        "outputId": "f58a94c0-5fb0-4c86-b9cb-06c2a49da0ba"
      },
      "execution_count": 47,
      "outputs": [
        {
          "output_type": "stream",
          "name": "stdout",
          "text": [
            "Пропущенные значения после обработки:\n",
            "farm_id                 0\n",
            "region                  0\n",
            "crop_type               0\n",
            "soil_moisture_%         0\n",
            "soil_pH                 0\n",
            "temperature_C           0\n",
            "rainfall_mm             0\n",
            "humidity_%              0\n",
            "sunlight_hours          0\n",
            "irrigation_type         0\n",
            "fertilizer_type         0\n",
            "pesticide_usage_ml      0\n",
            "sowing_date             0\n",
            "harvest_date            0\n",
            "total_days              0\n",
            "yield_kg_per_hectare    0\n",
            "sensor_id               0\n",
            "timestamp               0\n",
            "latitude                0\n",
            "longitude               0\n",
            "NDVI_index              0\n",
            "crop_disease_status     0\n",
            "dtype: int64\n"
          ]
        }
      ]
    },
    {
      "cell_type": "code",
      "source": [
        "from sklearn.preprocessing import LabelEncoder\n",
        "\n",
        "# Кодирование категориальных признаков\n",
        "label_encoders = {}\n",
        "categorical_cols = ['farm_id', 'region', 'crop_type', 'irrigation_type', 'fertilizer_type', 'sowing_date', 'harvest_date', 'sensor_id', 'timestamp', 'crop_disease_status']\n",
        "for col in categorical_cols:\n",
        "  le = LabelEncoder()\n",
        "  data[col] = le.fit_transform(data[col].astype(str))\n",
        "  label_encoders[col] = le"
      ],
      "metadata": {
        "id": "A_iqn8kHn3Jb"
      },
      "execution_count": 48,
      "outputs": []
    },
    {
      "cell_type": "code",
      "source": [
        "# Проверка dtype после обработки данных\n",
        "print('--- Info ---')\n",
        "print(data.info())"
      ],
      "metadata": {
        "colab": {
          "base_uri": "https://localhost:8080/"
        },
        "id": "gosRyLgSw0_7",
        "outputId": "5d1b258c-568a-4b97-e30d-40242849870e"
      },
      "execution_count": 50,
      "outputs": [
        {
          "output_type": "stream",
          "name": "stdout",
          "text": [
            "--- Info ---\n",
            "<class 'pandas.core.frame.DataFrame'>\n",
            "RangeIndex: 500 entries, 0 to 499\n",
            "Data columns (total 22 columns):\n",
            " #   Column                Non-Null Count  Dtype  \n",
            "---  ------                --------------  -----  \n",
            " 0   farm_id               500 non-null    int64  \n",
            " 1   region                500 non-null    int64  \n",
            " 2   crop_type             500 non-null    int64  \n",
            " 3   soil_moisture_%       500 non-null    float64\n",
            " 4   soil_pH               500 non-null    float64\n",
            " 5   temperature_C         500 non-null    float64\n",
            " 6   rainfall_mm           500 non-null    float64\n",
            " 7   humidity_%            500 non-null    float64\n",
            " 8   sunlight_hours        500 non-null    float64\n",
            " 9   irrigation_type       500 non-null    int64  \n",
            " 10  fertilizer_type       500 non-null    int64  \n",
            " 11  pesticide_usage_ml    500 non-null    float64\n",
            " 12  sowing_date           500 non-null    int64  \n",
            " 13  harvest_date          500 non-null    int64  \n",
            " 14  total_days            500 non-null    int64  \n",
            " 15  yield_kg_per_hectare  500 non-null    float64\n",
            " 16  sensor_id             500 non-null    int64  \n",
            " 17  timestamp             500 non-null    int64  \n",
            " 18  latitude              500 non-null    float64\n",
            " 19  longitude             500 non-null    float64\n",
            " 20  NDVI_index            500 non-null    float64\n",
            " 21  crop_disease_status   500 non-null    int64  \n",
            "dtypes: float64(11), int64(11)\n",
            "memory usage: 86.1 KB\n",
            "None\n"
          ]
        }
      ]
    },
    {
      "cell_type": "code",
      "source": [
        "# Статистический обзор датасета перед обучением\n",
        "print(data.describe())"
      ],
      "metadata": {
        "colab": {
          "base_uri": "https://localhost:8080/"
        },
        "id": "KsQrg_hprBKq",
        "outputId": "f833bb85-2890-4f37-d3c4-b46a7001707e"
      },
      "execution_count": 23,
      "outputs": [
        {
          "output_type": "stream",
          "name": "stdout",
          "text": [
            "          farm_id      region   crop_type  soil_moisture_%     soil_pH  \\\n",
            "count  500.000000  500.000000  500.000000       500.000000  500.000000   \n",
            "mean   249.500000    1.908000    1.934000        26.750140    6.523980   \n",
            "std    144.481833    1.419707    1.424677        10.150053    0.585558   \n",
            "min      0.000000    0.000000    0.000000        10.160000    5.510000   \n",
            "25%    124.750000    1.000000    1.000000        17.890000    6.030000   \n",
            "50%    249.500000    2.000000    2.000000        25.855000    6.530000   \n",
            "75%    374.250000    3.000000    3.000000        36.022500    7.040000   \n",
            "max    499.000000    4.000000    4.000000        44.980000    7.500000   \n",
            "\n",
            "       temperature_C  rainfall_mm  humidity_%  sunlight_hours  \\\n",
            "count     500.000000   500.000000  500.000000       500.00000   \n",
            "mean       24.675740   181.685740   65.194460         7.03014   \n",
            "std         5.348899    72.293091   14.642849         1.69167   \n",
            "min        15.000000    50.170000   40.230000         4.01000   \n",
            "25%        20.295000   119.217500   51.865000         5.66750   \n",
            "50%        24.655000   191.545000   65.685000         6.99500   \n",
            "75%        29.090000   239.035000   77.995000         8.47000   \n",
            "max        34.840000   298.960000   90.000000        10.00000   \n",
            "\n",
            "       irrigation_type  ...  sowing_date  harvest_date  total_days  \\\n",
            "count       500.000000  ...   500.000000    500.000000  500.000000   \n",
            "mean          1.320000  ...    42.610000     62.422000  119.496000   \n",
            "std           0.814203  ...    24.154104     38.609809   16.798046   \n",
            "min           0.000000  ...     0.000000      0.000000   90.000000   \n",
            "25%           1.000000  ...    22.000000     25.000000  105.750000   \n",
            "50%           2.000000  ...    44.000000     63.500000  119.000000   \n",
            "75%           2.000000  ...    63.000000     99.000000  134.000000   \n",
            "max           2.000000  ...    83.000000    122.000000  150.000000   \n",
            "\n",
            "       yield_kg_per_hectare   sensor_id   timestamp    latitude   longitude  \\\n",
            "count             500.00000  500.000000  500.000000  500.000000  500.000000   \n",
            "mean             4032.92694  249.500000   90.050000   22.442473   80.392248   \n",
            "std              1174.43304  144.481833   50.337652    7.283492    5.910664   \n",
            "min              2023.56000    0.000000    0.000000   10.004243   70.020021   \n",
            "25%              2994.82000  124.750000   44.750000   16.263202   75.374713   \n",
            "50%              4071.69000  249.500000   95.500000   21.981743   80.650284   \n",
            "75%              5062.11000  374.250000  133.250000   28.528948   85.654629   \n",
            "max              5998.29000  499.000000  171.000000   34.981531   89.991901   \n",
            "\n",
            "       NDVI_index  crop_disease_status  \n",
            "count  500.000000           500.000000  \n",
            "mean     0.602060             1.276000  \n",
            "std      0.175402             0.837393  \n",
            "min      0.300000             0.000000  \n",
            "25%      0.447500             0.750000  \n",
            "50%      0.610000             2.000000  \n",
            "75%      0.750000             2.000000  \n",
            "max      0.900000             2.000000  \n",
            "\n",
            "[8 rows x 22 columns]\n"
          ]
        }
      ]
    },
    {
      "cell_type": "code",
      "source": [
        "# Разделение данных на признаки (X) и целевую переменную (y)\n",
        "X = data.drop('crop_disease_status', axis=1)\n",
        "y = data['crop_disease_status'].astype(int)"
      ],
      "metadata": {
        "id": "31KoVCKwpeND"
      },
      "execution_count": 29,
      "outputs": []
    },
    {
      "cell_type": "code",
      "source": [
        "# Разделение на обучающую и тестовую выборки\n",
        "X_train, X_test, y_train, y_test = train_test_split (X,y,test_size=0.3,random_state=42, stratify=y)"
      ],
      "metadata": {
        "id": "WTYPYrdIpszD"
      },
      "execution_count": 30,
      "outputs": []
    },
    {
      "cell_type": "code",
      "source": [
        "# 1 Linear Discriminant Analysis (Линейный дискриминантный анализ):\n",
        "\n",
        "from sklearn.discriminant_analysis import LinearDiscriminantAnalysis\n",
        "\n",
        "# Создание и обучение модели LDA\n",
        "lda = LinearDiscriminantAnalysis()\n",
        "X_train_lda = lda.fit_transform(X_train, y_train)\n",
        "X_test_lda = lda.transform(X_test)\n",
        "\n",
        "# Прогнозирование на тестовом наборе данных\n",
        "y_pred_lda = lda.predict(X_test)\n",
        "\n",
        "# Оценка качества модели\n",
        "lda_accuracy = accuracy_score(y_test, y_pred_lda)\n",
        "lda_matrix = confusion_matrix(y_test, y_pred_lda)\n",
        "lda_report = classification_report(y_test, y_pred_lda)\n",
        "\n",
        "print(\"Accuracy:\", lda_accuracy)\n",
        "print(\"Confusion Matrix:\\n\", lda_matrix)\n",
        "print(\"Classification Report:\\n\", lda_report)"
      ],
      "metadata": {
        "colab": {
          "base_uri": "https://localhost:8080/"
        },
        "id": "auaU_K52uZOC",
        "outputId": "5cc2e83f-4716-41b9-fff0-864aacc1ed9e"
      },
      "execution_count": 90,
      "outputs": [
        {
          "output_type": "stream",
          "name": "stdout",
          "text": [
            "Accuracy: 0.935672514619883\n",
            "Confusion Matrix:\n",
            " [[ 54  10]\n",
            " [  1 106]]\n",
            "Classification Report:\n",
            "               precision    recall  f1-score   support\n",
            "\n",
            "           0       0.98      0.84      0.91        64\n",
            "           1       0.91      0.99      0.95       107\n",
            "\n",
            "    accuracy                           0.94       171\n",
            "   macro avg       0.95      0.92      0.93       171\n",
            "weighted avg       0.94      0.94      0.93       171\n",
            "\n"
          ]
        }
      ]
    },
    {
      "cell_type": "code",
      "source": [
        "# 2 Ridge Classifier:\n",
        "\n",
        "from sklearn.linear_model import RidgeClassifier\n",
        "\n",
        "# Создание и обучение модели LDA\n",
        "rc = RidgeClassifier()\n",
        "\n",
        "# Обучение GridSearchCV на обучающих данных\n",
        "rc.fit(X_train, y_train)\n",
        "\n",
        "# Прогнозирование на тестовом наборе данных с использованием лучшей модели\n",
        "y_pred_rc = rc.predict(X_test)\n",
        "\n",
        "# Оценка качества модели\n",
        "rc_accuracy = accuracy_score(y_test, y_pred_rc)\n",
        "rc_matrix = confusion_matrix(y_test, y_pred_rc)\n",
        "rc_report = classification_report(y_test, y_pred_rc)\n",
        "\n",
        "print(\"Accuracy:\", rc_accuracy)\n",
        "print(\"Confusion Matrix:\\n\", rc_matrix)\n",
        "print(\"Classification Report:\\n\", rc_report)"
      ],
      "metadata": {
        "id": "j9uSXi0uJ1DY",
        "outputId": "f3d07419-15be-4503-e8d7-00a08aaaf215",
        "colab": {
          "base_uri": "https://localhost:8080/"
        }
      },
      "execution_count": 88,
      "outputs": [
        {
          "output_type": "stream",
          "name": "stdout",
          "text": [
            "Accuracy: 0.9473684210526315\n",
            "Confusion Matrix:\n",
            " [[ 55   9]\n",
            " [  0 107]]\n",
            "Classification Report:\n",
            "               precision    recall  f1-score   support\n",
            "\n",
            "           0       1.00      0.86      0.92        64\n",
            "           1       0.92      1.00      0.96       107\n",
            "\n",
            "    accuracy                           0.95       171\n",
            "   macro avg       0.96      0.93      0.94       171\n",
            "weighted avg       0.95      0.95      0.95       171\n",
            "\n"
          ]
        }
      ]
    },
    {
      "cell_type": "code",
      "source": [
        "# 3 Gradient Boosting Classifier:\n",
        "\n",
        "from sklearn.ensemble import GradientBoostingClassifier\n",
        "\n",
        "# Создание модели Gradient Boosting Classifier\n",
        "gb = GradientBoostingClassifier(n_estimators=100, max_depth=3, learning_rate=0.1, random_state=42)\n",
        "\n",
        "# Обучение модели на обучающем наборе данных\n",
        "gb.fit(X_train, y_train)\n",
        "\n",
        "# Прогнозирование на тестовом наборе данных\n",
        "y_pred_gb = gb_classifier.predict(X_test)\n",
        "\n",
        "# Оценка качества модели\n",
        "gb_accuracy = accuracy_score(y_test, y_pred_gb)\n",
        "gb_matrix = confusion_matrix(y_test, y_pred_gb)\n",
        "gb_report = classification_report(y_test, y_pred_gb)\n",
        "\n",
        "print(\"Accuracy:\", gb_accuracy)\n",
        "print(\"Confusion Matrix:\\n\", gb_matrix)\n",
        "print(\"Classification Report:\\n\", gb_report)"
      ],
      "metadata": {
        "id": "zprS7c0KNUmY",
        "outputId": "97d5582e-14ca-4c73-c4f4-5b115682d14b",
        "colab": {
          "base_uri": "https://localhost:8080/"
        }
      },
      "execution_count": 91,
      "outputs": [
        {
          "output_type": "stream",
          "name": "stdout",
          "text": [
            "Accuracy: 0.9707602339181286\n",
            "Confusion Matrix:\n",
            " [[ 60   4]\n",
            " [  1 106]]\n",
            "Classification Report:\n",
            "               precision    recall  f1-score   support\n",
            "\n",
            "           0       0.98      0.94      0.96        64\n",
            "           1       0.96      0.99      0.98       107\n",
            "\n",
            "    accuracy                           0.97       171\n",
            "   macro avg       0.97      0.96      0.97       171\n",
            "weighted avg       0.97      0.97      0.97       171\n",
            "\n"
          ]
        }
      ]
    },
    {
      "cell_type": "code",
      "source": [
        "!pip install catboost\n",
        "import catboost"
      ],
      "metadata": {
        "id": "Qo4us1PnZxJK",
        "outputId": "de8bffcb-0510-4295-9a50-4d024edb1ef0",
        "colab": {
          "base_uri": "https://localhost:8080/"
        }
      },
      "execution_count": 62,
      "outputs": [
        {
          "output_type": "stream",
          "name": "stdout",
          "text": [
            "Collecting catboost\n",
            "  Downloading catboost-1.2.8-cp311-cp311-manylinux2014_x86_64.whl.metadata (1.2 kB)\n",
            "Requirement already satisfied: graphviz in /usr/local/lib/python3.11/dist-packages (from catboost) (0.20.3)\n",
            "Requirement already satisfied: matplotlib in /usr/local/lib/python3.11/dist-packages (from catboost) (3.10.0)\n",
            "Requirement already satisfied: numpy<3.0,>=1.16.0 in /usr/local/lib/python3.11/dist-packages (from catboost) (2.0.2)\n",
            "Requirement already satisfied: pandas>=0.24 in /usr/local/lib/python3.11/dist-packages (from catboost) (2.2.2)\n",
            "Requirement already satisfied: scipy in /usr/local/lib/python3.11/dist-packages (from catboost) (1.15.2)\n",
            "Requirement already satisfied: plotly in /usr/local/lib/python3.11/dist-packages (from catboost) (5.24.1)\n",
            "Requirement already satisfied: six in /usr/local/lib/python3.11/dist-packages (from catboost) (1.17.0)\n",
            "Requirement already satisfied: python-dateutil>=2.8.2 in /usr/local/lib/python3.11/dist-packages (from pandas>=0.24->catboost) (2.9.0.post0)\n",
            "Requirement already satisfied: pytz>=2020.1 in /usr/local/lib/python3.11/dist-packages (from pandas>=0.24->catboost) (2025.2)\n",
            "Requirement already satisfied: tzdata>=2022.7 in /usr/local/lib/python3.11/dist-packages (from pandas>=0.24->catboost) (2025.2)\n",
            "Requirement already satisfied: contourpy>=1.0.1 in /usr/local/lib/python3.11/dist-packages (from matplotlib->catboost) (1.3.2)\n",
            "Requirement already satisfied: cycler>=0.10 in /usr/local/lib/python3.11/dist-packages (from matplotlib->catboost) (0.12.1)\n",
            "Requirement already satisfied: fonttools>=4.22.0 in /usr/local/lib/python3.11/dist-packages (from matplotlib->catboost) (4.57.0)\n",
            "Requirement already satisfied: kiwisolver>=1.3.1 in /usr/local/lib/python3.11/dist-packages (from matplotlib->catboost) (1.4.8)\n",
            "Requirement already satisfied: packaging>=20.0 in /usr/local/lib/python3.11/dist-packages (from matplotlib->catboost) (24.2)\n",
            "Requirement already satisfied: pillow>=8 in /usr/local/lib/python3.11/dist-packages (from matplotlib->catboost) (11.2.1)\n",
            "Requirement already satisfied: pyparsing>=2.3.1 in /usr/local/lib/python3.11/dist-packages (from matplotlib->catboost) (3.2.3)\n",
            "Requirement already satisfied: tenacity>=6.2.0 in /usr/local/lib/python3.11/dist-packages (from plotly->catboost) (9.1.2)\n",
            "Downloading catboost-1.2.8-cp311-cp311-manylinux2014_x86_64.whl (99.2 MB)\n",
            "\u001b[2K   \u001b[90m━━━━━━━━━━━━━━━━━━━━━━━━━━━━━━━━━━━━━━━━\u001b[0m \u001b[32m99.2/99.2 MB\u001b[0m \u001b[31m6.7 MB/s\u001b[0m eta \u001b[36m0:00:00\u001b[0m\n",
            "\u001b[?25hInstalling collected packages: catboost\n",
            "Successfully installed catboost-1.2.8\n"
          ]
        }
      ]
    },
    {
      "cell_type": "code",
      "source": [
        "# 4 Cat Boost Classifier:\n",
        "\n",
        "from catboost import CatBoostClassifier\n",
        "\n",
        "# Создание модели CatBoostClassifier\n",
        "cb = CatBoostClassifier(iterations=50, depth=10, learning_rate=0.2, loss_function='MultiClass', random_state=42)\n",
        "\n",
        "# Обучение модели на обучающем наборе данных\n",
        "cb.fit(X_train, y_train)\n",
        "\n",
        "# Прогнозирование на тестовом наборе данных\n",
        "y_pred_cb = clf.predict(X_test)\n",
        "\n",
        "# Оценка качества модели\n",
        "cb_accuracy = accuracy_score(y_test, y_pred_cb)\n",
        "cb_matrix = confusion_matrix(y_test, y_pred_cb)\n",
        "cb_report = classification_report(y_test, y_pred_cb)\n",
        "\n",
        "print(\"Accuracy:\", cb_accuracy)\n",
        "print(\"Confusion Matrix:\\n\", cb_matrix)\n",
        "print(\"Classification Report:\\n\", cb_report)"
      ],
      "metadata": {
        "id": "HlzQSnGPVbQJ",
        "outputId": "88102ea3-3c89-426c-f274-93a1f9c05602",
        "colab": {
          "base_uri": "https://localhost:8080/"
        }
      },
      "execution_count": 85,
      "outputs": [
        {
          "output_type": "stream",
          "name": "stdout",
          "text": [
            "0:\tlearn: 0.5815383\ttotal: 279ms\tremaining: 13.7s\n",
            "1:\tlearn: 0.5099925\ttotal: 576ms\tremaining: 13.8s\n",
            "2:\tlearn: 0.4477414\ttotal: 850ms\tremaining: 13.3s\n",
            "3:\tlearn: 0.3956062\ttotal: 1.13s\tremaining: 12.9s\n",
            "4:\tlearn: 0.3490781\ttotal: 1.43s\tremaining: 12.8s\n",
            "5:\tlearn: 0.3140303\ttotal: 1.76s\tremaining: 12.9s\n",
            "6:\tlearn: 0.2817893\ttotal: 2.15s\tremaining: 13.2s\n",
            "7:\tlearn: 0.2539762\ttotal: 2.55s\tremaining: 13.4s\n",
            "8:\tlearn: 0.2310255\ttotal: 2.91s\tremaining: 13.3s\n",
            "9:\tlearn: 0.2160355\ttotal: 3.31s\tremaining: 13.2s\n",
            "10:\tlearn: 0.2012459\ttotal: 3.7s\tremaining: 13.1s\n",
            "11:\tlearn: 0.1893513\ttotal: 4.54s\tremaining: 14.4s\n",
            "12:\tlearn: 0.1777384\ttotal: 5.08s\tremaining: 14.5s\n",
            "13:\tlearn: 0.1648316\ttotal: 5.43s\tremaining: 14s\n",
            "14:\tlearn: 0.1515590\ttotal: 5.75s\tremaining: 13.4s\n",
            "15:\tlearn: 0.1441153\ttotal: 6.09s\tremaining: 12.9s\n",
            "16:\tlearn: 0.1372198\ttotal: 6.43s\tremaining: 12.5s\n",
            "17:\tlearn: 0.1279729\ttotal: 6.84s\tremaining: 12.2s\n",
            "18:\tlearn: 0.1220003\ttotal: 7.42s\tremaining: 12.1s\n",
            "19:\tlearn: 0.1158966\ttotal: 7.97s\tremaining: 12s\n",
            "20:\tlearn: 0.1107318\ttotal: 8.51s\tremaining: 11.8s\n",
            "21:\tlearn: 0.1069246\ttotal: 9s\tremaining: 11.5s\n",
            "22:\tlearn: 0.1028262\ttotal: 9.43s\tremaining: 11.1s\n",
            "23:\tlearn: 0.0974280\ttotal: 9.82s\tremaining: 10.6s\n",
            "24:\tlearn: 0.0940684\ttotal: 10.2s\tremaining: 10.2s\n",
            "25:\tlearn: 0.0895082\ttotal: 10.8s\tremaining: 10s\n",
            "26:\tlearn: 0.0841670\ttotal: 11.5s\tremaining: 9.81s\n",
            "27:\tlearn: 0.0806991\ttotal: 12s\tremaining: 9.43s\n",
            "28:\tlearn: 0.0762769\ttotal: 12.4s\tremaining: 9.01s\n",
            "29:\tlearn: 0.0732624\ttotal: 12.9s\tremaining: 8.63s\n",
            "30:\tlearn: 0.0710779\ttotal: 13.4s\tremaining: 8.2s\n",
            "31:\tlearn: 0.0688548\ttotal: 13.8s\tremaining: 7.76s\n",
            "32:\tlearn: 0.0665274\ttotal: 14.2s\tremaining: 7.3s\n",
            "33:\tlearn: 0.0648311\ttotal: 14.5s\tremaining: 6.84s\n",
            "34:\tlearn: 0.0625650\ttotal: 15s\tremaining: 6.42s\n",
            "35:\tlearn: 0.0605559\ttotal: 15.4s\tremaining: 6s\n",
            "36:\tlearn: 0.0578784\ttotal: 15.9s\tremaining: 5.57s\n",
            "37:\tlearn: 0.0562257\ttotal: 16.4s\tremaining: 5.17s\n",
            "38:\tlearn: 0.0544993\ttotal: 16.8s\tremaining: 4.72s\n",
            "39:\tlearn: 0.0530200\ttotal: 17.1s\tremaining: 4.27s\n",
            "40:\tlearn: 0.0515273\ttotal: 17.5s\tremaining: 3.85s\n",
            "41:\tlearn: 0.0499109\ttotal: 18s\tremaining: 3.42s\n",
            "42:\tlearn: 0.0485641\ttotal: 18.4s\tremaining: 3s\n",
            "43:\tlearn: 0.0470525\ttotal: 18.8s\tremaining: 2.56s\n",
            "44:\tlearn: 0.0452660\ttotal: 19.2s\tremaining: 2.14s\n",
            "45:\tlearn: 0.0441725\ttotal: 19.7s\tremaining: 1.71s\n",
            "46:\tlearn: 0.0424515\ttotal: 20.2s\tremaining: 1.29s\n",
            "47:\tlearn: 0.0410870\ttotal: 20.9s\tremaining: 870ms\n",
            "48:\tlearn: 0.0397764\ttotal: 21.6s\tremaining: 442ms\n",
            "49:\tlearn: 0.0386480\ttotal: 22.2s\tremaining: 0us\n",
            "Accuracy: 0.9473684210526315\n",
            "Confusion Matrix:\n",
            " [[ 61   3]\n",
            " [  6 101]]\n",
            "Classification Report:\n",
            "               precision    recall  f1-score   support\n",
            "\n",
            "           0       0.91      0.95      0.93        64\n",
            "           1       0.97      0.94      0.96       107\n",
            "\n",
            "    accuracy                           0.95       171\n",
            "   macro avg       0.94      0.95      0.94       171\n",
            "weighted avg       0.95      0.95      0.95       171\n",
            "\n"
          ]
        }
      ]
    },
    {
      "cell_type": "code",
      "source": [
        "# 5 Extra Trees Classifier:\n",
        "\n",
        "from sklearn.ensemble import ExtraTreesClassifier\n",
        "\n",
        "# Создание модели Extra Trees Classifier\n",
        "et = ExtraTreesClassifier(n_estimators=200, random_state=42)\n",
        "\n",
        "# Обучение модели Extra Trees Classifier на обучающем наборе данных\n",
        "et.fit(X_train, y_train)\n",
        "\n",
        "# Прогнозирование на тестовом наборе данных\n",
        "y_pred_et = et.predict(X_test)\n",
        "\n",
        "# Оценка качества модели\n",
        "et_accuracy = accuracy_score(y_test, y_pred_et)\n",
        "et_matrix = confusion_matrix(y_test, y_pred_et)\n",
        "et_report = classification_report(y_test, y_pred_et)\n",
        "\n",
        "print(\"Accuracy:\", et_accuracy)\n",
        "print(\"Confusion Matrix:\\n\", et_matrix)\n",
        "print(\"Classification Report:\\n\", et_report)"
      ],
      "metadata": {
        "id": "qSKDzhF2aUG3",
        "outputId": "99d5fa1a-c521-4137-96cb-15ffcaa4037f",
        "colab": {
          "base_uri": "https://localhost:8080/"
        }
      },
      "execution_count": 83,
      "outputs": [
        {
          "output_type": "stream",
          "name": "stdout",
          "text": [
            "Accuracy: 0.9707602339181286\n",
            "Confusion Matrix:\n",
            " [[ 60   4]\n",
            " [  1 106]]\n",
            "Classification Report:\n",
            "               precision    recall  f1-score   support\n",
            "\n",
            "           0       0.98      0.94      0.96        64\n",
            "           1       0.96      0.99      0.98       107\n",
            "\n",
            "    accuracy                           0.97       171\n",
            "   macro avg       0.97      0.96      0.97       171\n",
            "weighted avg       0.97      0.97      0.97       171\n",
            "\n"
          ]
        }
      ]
    },
    {
      "cell_type": "code",
      "source": [
        "# 6 QDA (Квадратичный дискриминантный анализ):\n",
        "\n",
        "from sklearn.discriminant_analysis import QuadraticDiscriminantAnalysis\n",
        "\n",
        "# Создание классификатора QDA\n",
        "qd = QuadraticDiscriminantAnalysis()\n",
        "\n",
        "# Обучение классификатора QDA  на обучающем наборе данных\n",
        "qd.fit(X_train, y_train)\n",
        "\n",
        "# Прогнозирование на тестовом наборе данных\n",
        "y_pred_qd = qd.predict(X_test)\n",
        "\n",
        "# Оценка качества модели\n",
        "qd_accuracy = accuracy_score(y_test, y_pred_qd)\n",
        "qd_matrix = confusion_matrix(y_test, y_pred_qd)\n",
        "qd_report = classification_report(y_test, y_pred_qd)\n",
        "\n",
        "print(\"Accuracy:\", qd_accuracy)\n",
        "print(\"Confusion Matrix:\\n\", qd_matrix)\n",
        "print(\"Classification Report:\\n\", qd_report)"
      ],
      "metadata": {
        "id": "Ccbo7G0RdoEK",
        "outputId": "80f881a0-c7f5-41b6-fe50-80df83d06c04",
        "colab": {
          "base_uri": "https://localhost:8080/"
        }
      },
      "execution_count": 84,
      "outputs": [
        {
          "output_type": "stream",
          "name": "stdout",
          "text": [
            "Accuracy: 0.9473684210526315\n",
            "Confusion Matrix:\n",
            " [[ 61   3]\n",
            " [  6 101]]\n",
            "Classification Report:\n",
            "               precision    recall  f1-score   support\n",
            "\n",
            "           0       0.91      0.95      0.93        64\n",
            "           1       0.97      0.94      0.96       107\n",
            "\n",
            "    accuracy                           0.95       171\n",
            "   macro avg       0.94      0.95      0.94       171\n",
            "weighted avg       0.95      0.95      0.95       171\n",
            "\n"
          ]
        },
        {
          "output_type": "stream",
          "name": "stderr",
          "text": [
            "/usr/local/lib/python3.11/dist-packages/sklearn/discriminant_analysis.py:1024: LinAlgWarning: The covariance matrix of class 0 is not full rank. Increasing the value of parameter `reg_param` might help reducing the collinearity.\n",
            "  warnings.warn(\n",
            "/usr/local/lib/python3.11/dist-packages/sklearn/discriminant_analysis.py:1024: LinAlgWarning: The covariance matrix of class 1 is not full rank. Increasing the value of parameter `reg_param` might help reducing the collinearity.\n",
            "  warnings.warn(\n"
          ]
        }
      ]
    },
    {
      "cell_type": "code",
      "source": [
        "# 7 Random Forest (Случайный лес, Bagging):\n",
        "\n",
        "from sklearn.ensemble import RandomForestClassifier\n",
        "\n",
        "# Создание модели Random Forest\n",
        "rf = RandomForestClassifier(n_estimators=100, random_state=42)\n",
        "\n",
        "# Обучение модели Random Forest на обучающем наборе данных\n",
        "rf.fit(X_train, y_train)\n",
        "\n",
        "# Прогнозирование на тестовом наборе данных\n",
        "y_pred_rf = rf.predict(X_test)\n",
        "\n",
        "# Оценка качества модели\n",
        "rf_accuracy = accuracy_score(y_test, y_pred_rf)\n",
        "rf_matrix = confusion_matrix(y_test, y_pred_rf)\n",
        "rf_report = classification_report(y_test, y_pred_rf)\n",
        "\n",
        "print(\"Accuracy:\", rf_accuracy)\n",
        "print(\"Confusion Matrix:\\n\", rf_matrix)\n",
        "print(\"Classification Report:\\n\", rf_report)"
      ],
      "metadata": {
        "id": "GuJuf0X9f3Ma",
        "outputId": "10c97279-c672-4bdd-d3d8-eca45dd6a718",
        "colab": {
          "base_uri": "https://localhost:8080/"
        }
      },
      "execution_count": 82,
      "outputs": [
        {
          "output_type": "stream",
          "name": "stdout",
          "text": [
            "Accuracy: 0.935672514619883\n",
            "Confusion Matrix:\n",
            " [[ 58   6]\n",
            " [  5 102]]\n",
            "Classification Report:\n",
            "               precision    recall  f1-score   support\n",
            "\n",
            "           0       0.92      0.91      0.91        64\n",
            "           1       0.94      0.95      0.95       107\n",
            "\n",
            "    accuracy                           0.94       171\n",
            "   macro avg       0.93      0.93      0.93       171\n",
            "weighted avg       0.94      0.94      0.94       171\n",
            "\n"
          ]
        }
      ]
    },
    {
      "cell_type": "code",
      "source": [
        "# 8 XGBoost (Boosting):\n",
        "\n",
        "from xgboost import XGBClassifier\n",
        "\n",
        "# Создание XGB модели\n",
        "xgb = XGBClassifier(use_label_encoder=False, eval_metric='logloss')\n",
        "\n",
        "# Обучение модели XGB на обучающем наборе данных\n",
        "xgb.fit(X_train, y_train)\n",
        "\n",
        "# Прогнозирование на тестовом наборе данных\n",
        "y_pred_xgb = xgb.predict(X_test)\n",
        "\n",
        "# Оценка качества модели\n",
        "xgb_accuracy = accuracy_score(y_test, y_pred_xgb)\n",
        "xgb_matrix = confusion_matrix(y_test, y_pred_xgb)\n",
        "xgb_report = classification_report(y_test, y_pred_xgb)\n",
        "\n",
        "print(\"Accuracy:\", xgb_accuracy)\n",
        "print(\"Confusion Matrix:\\n\", xgb_matrix)\n",
        "print(\"Classification Report:\\n\", xgb_report)"
      ],
      "metadata": {
        "id": "DVH2jl5piAi5",
        "outputId": "80e2a7f6-d49b-496e-d11f-4f065926ae39",
        "colab": {
          "base_uri": "https://localhost:8080/"
        }
      },
      "execution_count": 81,
      "outputs": [
        {
          "output_type": "stream",
          "name": "stdout",
          "text": [
            "Accuracy: 0.9649122807017544\n",
            "Confusion Matrix:\n",
            " [[ 60   4]\n",
            " [  2 105]]\n",
            "Classification Report:\n",
            "               precision    recall  f1-score   support\n",
            "\n",
            "           0       0.97      0.94      0.95        64\n",
            "           1       0.96      0.98      0.97       107\n",
            "\n",
            "    accuracy                           0.96       171\n",
            "   macro avg       0.97      0.96      0.96       171\n",
            "weighted avg       0.96      0.96      0.96       171\n",
            "\n"
          ]
        },
        {
          "output_type": "stream",
          "name": "stderr",
          "text": [
            "/usr/local/lib/python3.11/dist-packages/xgboost/core.py:158: UserWarning: [16:31:24] WARNING: /workspace/src/learner.cc:740: \n",
            "Parameters: { \"use_label_encoder\" } are not used.\n",
            "\n",
            "  warnings.warn(smsg, UserWarning)\n"
          ]
        }
      ]
    },
    {
      "cell_type": "code",
      "source": [
        "# Матрица ошибок всех классификаторов:\n",
        "\n",
        "fig, axes = plt.subplots(1, 8, figsize=(25, 10))\n",
        "\n",
        "models = [('1 Linear Discriminant Analysis', lda), ('2 Ridge Classifier', rc),\n",
        "          ('3 Gradient Boosting Classifier', gb), ('4 Cat Boost Classifier',cb), ('5 Extra Trees Classifier',et),\n",
        "          ('6 Quadratic Discriminant Analysis',qd), ('7 Random Forest',rf), ('8 XGBoost',xgb)]\n",
        "for i, (name, model) in enumerate(models):\n",
        "    y_pred = model.predict(X_test)\n",
        "    cm = confusion_matrix(y_test, y_pred)\n",
        "    disp = ConfusionMatrixDisplay(confusion_matrix=cm, display_labels=['No classified', 'Classified'])\n",
        "    disp.plot(ax=axes[i], cmap='Blues')\n",
        "    axes[i].set_title(f'{name}')\n",
        "\n",
        "plt.tight_layout()\n",
        "plt.show()"
      ],
      "metadata": {
        "id": "4vwneExwMvJu",
        "outputId": "8c14c71d-7f45-47c0-8886-9ab46cd7e059",
        "colab": {
          "base_uri": "https://localhost:8080/",
          "height": 291
        }
      },
      "execution_count": 96,
      "outputs": [
        {
          "output_type": "display_data",
          "data": {
            "text/plain": [
              "<Figure size 2500x1000 with 16 Axes>"
            ],
            "image/png": "[encoded data removed]"
          },
          "metadata": {}
        }
      ]
    },
    {
      "cell_type": "code",
      "source": [
        "# Вывод метрик всех классификаторов:\n",
        "print(\"1 Linear Discriminant Analysis:\")\n",
        "print(\"Accuracy:\", lda_accuracy)\n",
        "print(lda_report)\n",
        "print(\"\\n\" + \"=\"*50 + \"\\n\")\n",
        "print(\"2 Ridge Classifier:\")\n",
        "print(\"Accuracy:\", rc_accuracy)\n",
        "print(rc_report)\n",
        "print(\"\\n\" + \"=\"*50 + \"\\n\")\n",
        "print(\"3 Gradient Boosting Classifier:\")\n",
        "print(\"Accuracy:\", gb_accuracy)\n",
        "print(gb_report)\n",
        "print(\"\\n\" + \"=\"*50 + \"\\n\")\n",
        "print(\"4 Cat Boost Classifier:\")\n",
        "print(\"Accuracy:\", cbc_accuracy)\n",
        "print(cbc_report)\n",
        "print(\"\\n\" + \"=\"*50 + \"\\n\")\n",
        "print(\"5 Extra Trees Classifier:\")\n",
        "print(\"Accuracy:\", et_accuracy)\n",
        "print(et_report)\n",
        "print(\"\\n\" + \"=\"*50 + \"\\n\")\n",
        "print(\"6 Quadratic Discriminant Analysis:\")\n",
        "print(\"Accuracy:\", qd_accuracy)\n",
        "print(qd_report)\n",
        "print(\"\\n\" + \"=\"*50 + \"\\n\")\n",
        "print(\"7 Random Forest:\")\n",
        "print(\"Accuracy:\", rf_accuracy)\n",
        "print(rf_report)\n",
        "print(\"\\n\" + \"=\"*50 + \"\\n\")\n",
        "print(\"8 XGBoost:\")\n",
        "print(\"Accuracy:\", xgb_accuracy)\n",
        "print(xgb_report)\n",
        "print(\"\\n\" + \"=\"*50 + \"\\n\")"
      ],
      "metadata": {
        "colab": {
          "base_uri": "https://localhost:8080/"
        },
        "id": "S_gNvxPs3Xzd",
        "outputId": "b2dabe58-9d8d-4446-90f1-502cfb1e685f"
      },
      "execution_count": 99,
      "outputs": [
        {
          "output_type": "stream",
          "name": "stdout",
          "text": [
            "1 Linear Discriminant Analysis:\n",
            "Accuracy: 0.935672514619883\n",
            "              precision    recall  f1-score   support\n",
            "\n",
            "           0       0.98      0.84      0.91        64\n",
            "           1       0.91      0.99      0.95       107\n",
            "\n",
            "    accuracy                           0.94       171\n",
            "   macro avg       0.95      0.92      0.93       171\n",
            "weighted avg       0.94      0.94      0.93       171\n",
            "\n",
            "\n",
            "==================================================\n",
            "\n",
            "2 Ridge Classifier:\n",
            "Accuracy: 0.9473684210526315\n",
            "              precision    recall  f1-score   support\n",
            "\n",
            "           0       1.00      0.86      0.92        64\n",
            "           1       0.92      1.00      0.96       107\n",
            "\n",
            "    accuracy                           0.95       171\n",
            "   macro avg       0.96      0.93      0.94       171\n",
            "weighted avg       0.95      0.95      0.95       171\n",
            "\n",
            "\n",
            "==================================================\n",
            "\n",
            "3 Gradient Boosting Classifier:\n",
            "Accuracy: 0.9707602339181286\n",
            "              precision    recall  f1-score   support\n",
            "\n",
            "           0       0.98      0.94      0.96        64\n",
            "           1       0.96      0.99      0.98       107\n",
            "\n",
            "    accuracy                           0.97       171\n",
            "   macro avg       0.97      0.96      0.97       171\n",
            "weighted avg       0.97      0.97      0.97       171\n",
            "\n",
            "\n",
            "==================================================\n",
            "\n",
            "4 Cat Boost Classifier:\n",
            "Accuracy: 0.9532163742690059\n",
            "              precision    recall  f1-score   support\n",
            "\n",
            "           0       0.98      0.89      0.93        64\n",
            "           1       0.94      0.99      0.96       107\n",
            "\n",
            "    accuracy                           0.95       171\n",
            "   macro avg       0.96      0.94      0.95       171\n",
            "weighted avg       0.95      0.95      0.95       171\n",
            "\n",
            "\n",
            "==================================================\n",
            "\n",
            "5 Extra Trees Classifier:\n",
            "Accuracy: 0.9707602339181286\n",
            "              precision    recall  f1-score   support\n",
            "\n",
            "           0       0.98      0.94      0.96        64\n",
            "           1       0.96      0.99      0.98       107\n",
            "\n",
            "    accuracy                           0.97       171\n",
            "   macro avg       0.97      0.96      0.97       171\n",
            "weighted avg       0.97      0.97      0.97       171\n",
            "\n",
            "\n",
            "==================================================\n",
            "\n",
            "6 Quadratic Discriminant Analysis:\n",
            "Accuracy: 0.9473684210526315\n",
            "              precision    recall  f1-score   support\n",
            "\n",
            "           0       0.91      0.95      0.93        64\n",
            "           1       0.97      0.94      0.96       107\n",
            "\n",
            "    accuracy                           0.95       171\n",
            "   macro avg       0.94      0.95      0.94       171\n",
            "weighted avg       0.95      0.95      0.95       171\n",
            "\n",
            "\n",
            "==================================================\n",
            "\n",
            "7 Random Forest:\n",
            "Accuracy: 0.935672514619883\n",
            "              precision    recall  f1-score   support\n",
            "\n",
            "           0       0.92      0.91      0.91        64\n",
            "           1       0.94      0.95      0.95       107\n",
            "\n",
            "    accuracy                           0.94       171\n",
            "   macro avg       0.93      0.93      0.93       171\n",
            "weighted avg       0.94      0.94      0.94       171\n",
            "\n",
            "\n",
            "==================================================\n",
            "\n",
            "8 XGBoost:\n",
            "Accuracy: 0.9649122807017544\n",
            "              precision    recall  f1-score   support\n",
            "\n",
            "           0       0.97      0.94      0.95        64\n",
            "           1       0.96      0.98      0.97       107\n",
            "\n",
            "    accuracy                           0.96       171\n",
            "   macro avg       0.97      0.96      0.96       171\n",
            "weighted avg       0.96      0.96      0.96       171\n",
            "\n",
            "\n",
            "==================================================\n",
            "\n"
          ]
        }
      ]
    }
  ]
}