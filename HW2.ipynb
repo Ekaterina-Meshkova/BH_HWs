{
  "metadata": {
    "kernelspec": {
      "name": "python",
      "display_name": "Python (Pyodide)",
      "language": "python"
    },
    "language_info": {
      "codemirror_mode": {
        "name": "python",
        "version": 3
      },
      "file_extension": ".py",
      "mimetype": "text/x-python",
      "name": "python",
      "nbconvert_exporter": "python",
      "pygments_lexer": "ipython3",
      "version": "3.8"
    }
  },
  "nbformat_minor": 5,
  "nbformat": 4,
  "cells": [
    {
      "id": "597a0f69-be29-4000-a754-b60dd6081fd0",
      "cell_type": "code",
      "source": "import pandas as pd\nimport numpy as np\nimport matplotlib.pyplot as plt\nimport seaborn as sns\n\nfrom sklearn.model_selection import train_test_split\nfrom sklearn.compose import ColumnTransformer\nfrom sklearn.preprocessing import StandardScaler\nfrom sklearn.linear_model import LinearRegression\nfrom sklearn.linear_model import LogisticRegression\nfrom sklearn.tree import DecisionTreeClassifier\nfrom sklearn.metrics import mean_squared_error, r2_score\n\n\n#Загрузить данные из csv\ndef load_csv(file_path):\n        \"\"\"Загрузка данных из CSV файла.\"\"\"\n        try:\n            data = pd.read_csv(file_path)\n            return data\n        except Exception as e:\n            print(f\"Ошибка при загрузке CSV: {e}\")\n            return None\n\n# Визуализация1 датасета (столбчатые диаграммы)\ndef viev(data):\n\n# установить стиль Seaborn\n  sns.set(style=\"whitegrid\")\n\n# df — это DataFrame\n# создать ящики с усами для каждой колонки df\n  plt.figure(figsize=(12, 10))\n\n# создать ящик с усами для каждого чмслового столбца\n  for index, column in enumerate(data.select_dtypes(include=[np.number]).columns):\n      plt.subplot((len(data.columns) // 3) + 1, 3, index + 1)\n      sns.boxplot(y=data[column])\n\n  plt.tight_layout()\n  plt.show()\n\n# Визуализация2 датассета (гистограммы)\ndef viev2(data1):\n  # установить стиль Seaborn\n  sns.set(style=\"whitegrid\")\n\n  # создать гистограмму для каждой числовой переменной\n  data1.hist(bins=20, figsize=(15, 10), color='skyblue', edgecolor='black')\n\n  # добавить названия для каждого графика и осей\n  for ax in plt.gcf().get_axes():\n      ax.set_xlabel('Значение')\n      ax.set_ylabel('Частота')\n  # отрегулировать макет для предотвращения наложения подписей\n  plt.tight_layout()\n  # показать график\n  plt.show()\n\n# Подготовка данных (удаление айдишнков и строк с пустыми значениями)\ndef clean_data(data):\n    data = data.drop(columns=['A_id'])\n    data = data.dropna()\n    data = data.astype({'Acidity'})\n    def label(Quality):\n        if Quality == \"Good\":\n            return 0\n        if Quality == \"Bad\":\n            return 1\n        return None\n\n    data['Label'] = data['Quality'].apply(label)\n\n    data = data.drop(columns=['Quality'])\n\n    data = data.astype({'Label': 'int64'})\n\n    return data\n\ndef learning(data1):\n  # Разделение данных на признаки и целевую переменную\n  X = data1.iloc[:, :-1]\n  y = data1['Label']\n\n  # Разделение на обучающую и тестовую выборки\n  X_train, X_test, y_train, y_test = train_test_split(X, y, test_size=0.3, stratify=y)\n\n  # Стандартизация данных\n  scaler = StandardScaler()\n  X_train_scaled = scaler.fit_transform(X_train)\n  X_test_scaled = scaler.transform(X_test)\n\n  # Создание и обучение моделей\n  log_reg = LogisticRegression()\n  log_reg.fit(X_train_scaled, y_train)\n\n  rf = RandomForestClassifier()\n  rf.fit(X_train_scaled, y_train)\n\n  # Предсказание на тестовых данных\n  y_pred_log_reg = log_reg.predict(X_test_scaled)\n  y_pred_rf = rf.predict(X_test_scaled)\n\n  # Оценка моделей\n  accuracy_log_reg = accuracy_score(y_test, y_pred_log_reg)\n  accuracy_rf = accuracy_score(y_test, y_pred_rf)\n  report_log_reg = classification_report(y_test, y_pred_log_reg)\n  report_rf = classification_report(y_test, y_pred_rf)\n\n  print(accuracy_log_reg, accuracy_rf, report_log_reg, report_rf)",
      "metadata": {
        "trusted": true,
        "tags": [],
        "editable": true,
        "slideshow": {
          "slide_type": ""
        }
      },
      "outputs": [],
      "execution_count": null
    }
  ]
}