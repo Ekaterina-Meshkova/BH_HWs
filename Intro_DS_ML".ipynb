{
  "nbformat": 4,
  "nbformat_minor": 0,
  "metadata": {
    "colab": {
      "provenance": [],
      "authorship_tag": "ABX9TyPIAcP8IK6H3bYdXG3Yj8Dr",
      "include_colab_link": true
    },
    "kernelspec": {
      "name": "python3",
      "display_name": "Python 3"
    },
    "language_info": {
      "name": "python"
    }
  },
  "cells": [
    {
      "cell_type": "markdown",
      "metadata": {
        "id": "view-in-github",
        "colab_type": "text"
      },
      "source": [
        "<a href=\"https://colab.research.google.com/github/Ekaterina-Meshkova/Ekaterina-M/blob/main/Intro_DS_ML%22.ipynb\" target=\"_parent\"><img src=\"https://colab.research.google.com/assets/colab-badge.svg\" alt=\"Open In Colab\"/></a>"
      ]
    },
    {
      "cell_type": "code",
      "execution_count": null,
      "metadata": {
        "id": "7Po3oK-E3twh"
      },
      "outputs": [],
      "source": [
        "#хороший тон указывать тип данных, используемых в функции в качестве входных и выходных\n",
        "def greet(name: str) -> str:\n",
        "    return f\"Hi, {name}\"\n"
      ]
    },
    {
      "cell_type": "code",
      "source": [
        "# управление исключениями except\\else\n",
        "try:   # выполнить код типа file = open(\"filename.txt\", \"r\")\n",
        "   file = open(\"test.txt\", \"r\")\n",
        "   data = file.read()\n",
        "except FileNotFoundError:   # Исключение= файл не найден\n",
        "   print(\"Файл не найден\")\n",
        "except Exception as e:     # Исключение= все другие\n",
        "   print(f\"Ошибка системы: {е}\")\n",
        "else:    # Исключений нет, блок try отработал без ошибок\n",
        "   file.close()\n",
        "   print(\"Чтение файла завершено\")\n",
        "finally:    #  Закрытие файла, выполняется всегда\n",
        "   print(\"Процесс чтения завершен\")\n"
      ],
      "metadata": {
        "id": "uDG8gxSG6E9A",
        "outputId": "e444be41-79b7-462e-e211-aaffaae9d072",
        "colab": {
          "base_uri": "https://localhost:8080/"
        }
      },
      "execution_count": null,
      "outputs": [
        {
          "output_type": "stream",
          "name": "stdout",
          "text": [
            "Файл не найден\n",
            "Процесс чтения завершен\n"
          ]
        }
      ]
    },
    {
      "cell_type": "code",
      "source": [
        " # Функция для вычмсления среднего значения\n",
        "def calculate_average(scores):\n",
        "    return sum(scores) / len(scores)\n",
        "\n",
        "test_scores = [30, 36, 42, 48, 56]\n",
        "average_score = calculate_average(test_scores)\n",
        "print(f\"Среднее значение: {average_score}\")   # print\n"
      ],
      "metadata": {
        "id": "DxlMutBACI1G",
        "outputId": "bac4ee31-d159-475a-a028-021766f6be3e",
        "colab": {
          "base_uri": "https://localhost:8080/"
        }
      },
      "execution_count": null,
      "outputs": [
        {
          "output_type": "stream",
          "name": "stdout",
          "text": [
            "Среднее значение: 42.4\n"
          ]
        }
      ]
    },
    {
      "cell_type": "code",
      "source": [
        " # Функции для вывода  темы (параметр по умолчанию)  и материалов по теме (переменое количество аргументов)\n",
        "def provide_learning_materials(topic=\"Python:\"):   # функция с параметром по умолчанию (тема\\заголовок)\n",
        "    return f\"Материалы по теме {topic}\"\n",
        "print(provide_learning_materials())         # print part 1\n",
        "\n",
        "def print_topics(*topics):          # функция с переменными параметрами\n",
        "    for topic in topics:\n",
        "        print(f\"- {topic}\")         # print part 2\n",
        "\n",
        "print_topics(\"Основы Python\", \"Нейронные сети\")  # поле управления списком переменных параметров\n",
        "\n"
      ],
      "metadata": {
        "id": "dxytU6hYEVT0",
        "outputId": "2833079c-ce8d-4cf9-f7c1-713a82778713",
        "colab": {
          "base_uri": "https://localhost:8080/"
        }
      },
      "execution_count": null,
      "outputs": [
        {
          "output_type": "stream",
          "name": "stdout",
          "text": [
            "Материалы по теме Python:\n",
            "- Основы Python\n",
            "- Нейронные сети\n"
          ]
        }
      ]
    }
  ]
}